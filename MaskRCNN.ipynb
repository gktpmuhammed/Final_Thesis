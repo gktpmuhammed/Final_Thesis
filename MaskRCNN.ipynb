{
  "cells": [
    {
      "cell_type": "code",
      "execution_count": null,
      "metadata": {
        "colab": {
          "base_uri": "https://localhost:8080/"
        },
        "id": "ZU9L02kOhknk",
        "outputId": "5fa260c0-8fdd-4cfc-90f4-0432d2026864"
      },
      "outputs": [],
      "source": [
        "!git clone \"https://github.com/SriRamGovardhanam/wastedata-Mask_RCNN-multiple-classes.git\""
      ]
    },
    {
      "cell_type": "code",
      "execution_count": null,
      "metadata": {
        "colab": {
          "base_uri": "https://localhost:8080/"
        },
        "id": "iLsQTEousn78",
        "outputId": "1e7ca0a0-26a3-4d48-c379-6c4881d1b121"
      },
      "outputs": [],
      "source": [
        "from google.colab import drive\n",
        "drive.mount('/content/drive',force_remount=True)"
      ]
    },
    {
      "cell_type": "code",
      "execution_count": null,
      "metadata": {
        "colab": {
          "base_uri": "https://localhost:8080/",
          "height": 607
        },
        "id": "6dnzVa80yuIN",
        "outputId": "d38caed1-d40b-4eb5-cf89-c45dcacf6e88"
      },
      "outputs": [],
      "source": [
        "!pip install 'h5py==2.10.0' --force-reinstall"
      ]
    },
    {
      "cell_type": "code",
      "execution_count": null,
      "metadata": {
        "colab": {
          "base_uri": "https://localhost:8080/"
        },
        "id": "Tt73o_xYQI7J",
        "outputId": "97ee7a12-6d28-4807-ceb0-7a21f58276c1"
      },
      "outputs": [],
      "source": [
        "# !pip install -U scikit-image==0.16.2\n",
        "# !pip install keras==2.1.0\n",
        "%tensorflow_version 1.x"
      ]
    },
    {
      "cell_type": "code",
      "execution_count": null,
      "metadata": {
        "colab": {
          "base_uri": "https://localhost:8080/",
          "height": 35
        },
        "id": "a_-SV6isjm4B",
        "outputId": "bf2449ec-472b-4624-ea38-c82f022d3417"
      },
      "outputs": [],
      "source": [
        "import shutil, os\n",
        "def copytree(src = '/content/wastedata-Mask_RCNN-multiple-classes/main/Mask_RCNN', dst = '/content/', symlinks=False, ignore=None):\n",
        "    try:\n",
        "      shutil.rmtree('/content/.ipynb_checkpoints')\n",
        "    except:\n",
        "      pass\n",
        "    for item in os.listdir(src):\n",
        "        s = os.path.join(src, item)\n",
        "        d = os.path.join(dst, item)\n",
        "        if os.path.isdir(s):\n",
        "            shutil.copytree(s, d, symlinks, ignore)\n",
        "        else:\n",
        "            shutil.copy2(s, d)\n",
        "copytree()\n",
        "# shutil.copytree('/content/drive/MyDrive/batin_data','/content/dataset') # Erencan \n",
        "shutil.copytree('/content/drive/MyDrive/Boun_Ders/Cmpe491-492/batin_data','/content/dataset') # Muhammed\n"
      ]
    },
    {
      "cell_type": "code",
      "execution_count": null,
      "metadata": {
        "colab": {
          "base_uri": "https://localhost:8080/"
        },
        "id": "UoAlafYGpsJ1",
        "outputId": "446d56c3-ea94-43bc-a2d9-e625fe352cea"
      },
      "outputs": [],
      "source": [
        "!pip install -U scikit-image==0.16.2\n",
        "!pip install keras==2.1.0\n",
        "%tensorflow_version 1.x"
      ]
    },
    {
      "cell_type": "code",
      "execution_count": null,
      "metadata": {
        "id": "ovgSwpg3hsea"
      },
      "outputs": [],
      "source": [
        "import os\n",
        "import sys\n",
        "import json\n",
        "import datetime\n",
        "import numpy as np\n",
        "import skimage.draw\n",
        "import cv2\n",
        "from mrcnn.visualize import display_instances\n",
        "import matplotlib.pyplot as plt\n",
        "\n",
        "# Root directory of the project\n",
        "ROOT_DIR = os.path.abspath(\"/content/wastedata-Mask_RCNN-multiple-classes/main/Mask_RCNN/\")\n",
        "\n",
        "# Import Mask RCNN\n",
        "sys.path.append(ROOT_DIR)  # To find local version of the library\n",
        "from mrcnn.config import Config\n",
        "from mrcnn import model as modellib, utils\n",
        "\n",
        "# Path to trained weights file\n",
        "COCO_WEIGHTS_PATH = os.path.join(ROOT_DIR, \"mask_rcnn_object_0020.h5\")\n",
        "# 20.epochdan devam etmesi için buradaki pathi güncelle\n",
        "# COCO_WEIGHTS_PATH = os.path.join(ROOT_DIR, \"logs/object20220512T1412/mask_rcnn_object_0020.h5\")\n",
        "\n",
        "DEFAULT_LOGS_DIR = os.path.join(ROOT_DIR, \"logs\")\n"
      ]
    },
    {
      "cell_type": "code",
      "execution_count": null,
      "metadata": {
        "id": "plbvJ9-ujTeg"
      },
      "outputs": [],
      "source": [
        "class CustomConfig(Config):\n",
        "    \"\"\"Configuration for training on the toy  dataset.\n",
        "    Derives from the base Config class and overrides some values.\n",
        "    \"\"\"\n",
        "    # Give the configuration a recognizable name\n",
        "    NAME = \"object\"\n",
        "\n",
        "    # We use a GPU with 12GB memory, which can fit two images.\n",
        "    # Adjust down if you use a smaller GPU.\n",
        "    IMAGES_PER_GPU = 2\n",
        "\n",
        "    # Number of classes (including background)\n",
        "    NUM_CLASSES = 1 + 3  # Background + toy\n",
        "\n",
        "    # Number of training steps per epoch\n",
        "    STEPS_PER_EPOCH = 100\n",
        "\n",
        "    # Skip detections with < 90% confidence\n",
        "    DETECTION_MIN_CONFIDENCE = 0.8"
      ]
    },
    {
      "cell_type": "code",
      "execution_count": null,
      "metadata": {
        "id": "Va-AE4S1kBd7"
      },
      "outputs": [],
      "source": [
        "class CustomDataset(utils.Dataset):\n",
        "\n",
        "    def load_custom(self, dataset_dir, subset):\n",
        "\n",
        "        self.add_class(\"object\", 1, \"tumor\")\n",
        "        self.add_class(\"object\", 2, \"inner_wall\")\n",
        "        self.add_class(\"object\", 3, \"outer_wall\")\n",
        "        assert subset in [\"train\", \"val\"]\n",
        "        dataset_dir = os.path.join(dataset_dir, subset)\n",
        "\n",
        "        annotations1 = json.load(open(os.path.join(dataset_dir, \"all_images_vgg.json\")))\n",
        "        annotations = list(annotations1.values())  # don't need the dict keys\n",
        "\n",
        "        annotations = [a for a in annotations if a['regions']]\n",
        "        \n",
        "        # Add images\n",
        "        for a in annotations:\n",
        "            r=a['regions']\n",
        "            objects=[]\n",
        "            polygons=[]\n",
        "            for i in range(len(r)):\n",
        "               polygons.append(r[str(i)]['shape_attributes'])\n",
        "               objects.append(r[str(i)]['region_attributes']['label'])\n",
        "            print(\"objects:\",objects)\n",
        "            name_dict = {\"tumor\": 1,\"inner_wall\": 2,\"outer_wall\":3} #,\"xyz\": 3}\n",
        "            # key = tuple(name_dict)\n",
        "            num_ids = [name_dict[a] for a in objects]\n",
        "     \n",
        "            print(\"numids\",num_ids)\n",
        "            image_path = os.path.join(dataset_dir, a['filename'])\n",
        "            image = skimage.io.imread(image_path)\n",
        "            height, width = image.shape[:2]\n",
        "\n",
        "            self.add_image(\n",
        "                \"object\",  ## for a single class just add the name here\n",
        "                image_id=a['filename'],  # use file name as a unique image id\n",
        "                path=image_path,\n",
        "                width=width, height=height,\n",
        "                polygons=polygons,\n",
        "                num_ids=num_ids\n",
        "                )\n",
        "\n",
        "    def load_mask(self, image_id):\n",
        "\n",
        "        image_info = self.image_info[image_id]\n",
        "        if image_info[\"source\"] != \"object\":\n",
        "            return super(self.__class__, self).load_mask(image_id)\n",
        "\n",
        "        # [height, width, instance_count]\n",
        "        info = self.image_info[image_id]\n",
        "        if info[\"source\"] != \"object\":\n",
        "            return super(self.__class__, self).load_mask(image_id)\n",
        "        num_ids = info['num_ids']\n",
        "        mask = np.zeros([info[\"height\"], info[\"width\"], len(info[\"polygons\"])],\n",
        "                        dtype=np.uint8)\n",
        "        for i, p in enumerate(info[\"polygons\"]):\n",
        "            # Get indexes of pixels inside the polygon and set them to 1\n",
        "        \trr, cc = skimage.draw.polygon(p['all_points_y'], p['all_points_x'])\n",
        "\n",
        "        \tmask[rr, cc, i] = 1\n",
        "\n",
        "        num_ids = np.array(num_ids, dtype=np.int32)\n",
        "        return mask, num_ids #np.ones([mask.shape[-1]], dtype=np.int32)\n",
        "\n",
        "    def image_reference(self, image_id):\n",
        "        \"\"\"Return the path of the image.\"\"\"\n",
        "        info = self.image_info[image_id]\n",
        "        if info[\"source\"] == \"object\":\n",
        "            return info[\"path\"]\n",
        "        else:\n",
        "            super(self.__class__, self).image_reference(image_id)"
      ]
    },
    {
      "cell_type": "code",
      "execution_count": null,
      "metadata": {
        "colab": {
          "base_uri": "https://localhost:8080/",
          "height": 1000
        },
        "id": "UWqH74pUFxal",
        "outputId": "f43b74c0-7f66-4ebe-ef38-5ac071f9f612"
      },
      "outputs": [],
      "source": [
        "import numpy\n",
        "dataset_train = CustomDataset()\n",
        "dataset_train.load_custom(\"/content/dataset\", \"train\")\n",
        "dataset_train.prepare()\n",
        "print(len(dataset_train.image_ids))\n",
        "dictionary = dict()\n",
        "name = \"\"\n",
        "list1=[]\n",
        "for i in range(len(dataset_train.image_ids)):\n",
        "  newname = dataset_train.image_info[i]['id'][0:10]\n",
        "  list2=[]\n",
        "  image = dataset_train.load_image(i)\n",
        "  mask, numids = dataset_train.load_mask(i)\n",
        "  num_ids = numpy.array(numids)\n",
        "  outer_wall_index = np.where(num_ids==3)\n",
        "  inner_wall_index = np.where(num_ids==2)\n",
        "  tumor_index = np.where(num_ids==1)\n",
        "  if len(outer_wall_index[0]) == 0 or len(inner_wall_index[0]) == 0 or len(tumor_index[0]) == 0:\n",
        "    continue\n",
        "\n",
        "  print(\"outer_wall_index\", outer_wall_index)\n",
        "  print(\"inner_wall_index\", inner_wall_index)\n",
        "  print(\"tumor_index\", tumor_index)\n",
        "  inner_count = 0\n",
        "  outer_count = 0\n",
        "  outside_count = 0\n",
        "  tumor = 0\n",
        "  for k in tumor_index[0]:\n",
        "    print(\"k\",k)\n",
        "    for i in range(512):\n",
        "      for j in range(512):\n",
        "        if mask[i][j][k] == True:\n",
        "          tumor += 1\n",
        "        if (mask[i][j][k] == mask[i][j][inner_wall_index[0][0]]) and (mask[i][j][k] == True):\n",
        "          inner_count += 1\n",
        "        if (mask[i][j][k] == mask[i][j][outer_wall_index[0][0]]) and (mask[i][j][k] == True):\n",
        "          outer_count += 1\n",
        "        elif (mask[i][j][k] == True):\n",
        "          outside_count += 1\n",
        "  list2.append(tumor)\n",
        "  list2.append(inner_count)\n",
        "  list2.append(outer_count-inner_count)\n",
        "  list2.append(outside_count)\n",
        "  if name == newname :\n",
        "    list1 = [x + y for (x, y) in zip(list1, list2)]\n",
        "  else:\n",
        "    print(newname)\n",
        "    dictionary[name]=list1\n",
        "    name=newname\n",
        "    list1 = list2\n",
        "  print(\"inner_count\", inner_count)\n",
        "  print(\"outer_count\", outer_count-inner_count)\n",
        "  print(\"outside_count\", outside_count)\n",
        "  if inner_count == outer_count and outside_count == 0:\n",
        "    print(\"VIRADS Score: 1 or 2 or 3\")\n",
        "  elif outer_count > inner_count and outside_count == 0:\n",
        "    print(\"VIRADS Score: 3 or 4\")\n",
        "  elif outside_count > 0:\n",
        "    print(\"VIRADS Score: 5\")\n",
        "  num_ids = np.array(num_ids, dtype=np.int32)\n",
        "\n",
        "import json\n",
        "  \n",
        "with open('/content/convert_all_images_vgg_43-52.txt', 'w') as convert_file:\n",
        "     convert_file.write(json.dumps(dictionary))\n"
      ]
    },
    {
      "cell_type": "code",
      "execution_count": null,
      "metadata": {
        "id": "eVvXzgHscGgy"
      },
      "outputs": [],
      "source": [
        "with open('/content/dataset/convert.txt', 'w') as convert_file:\n",
        "     convert_file.write(json.dumps(dictionary))"
      ]
    },
    {
      "cell_type": "code",
      "execution_count": null,
      "metadata": {
        "id": "hUzmsqLokFSO"
      },
      "outputs": [],
      "source": [
        "def train(model):\n",
        "    \"\"\"Train the model.\"\"\"\n",
        "    # Training dataset.\n",
        "    dataset_train = CustomDataset()\n",
        "    dataset_train.load_custom(\"/content/dataset\", \"train\")\n",
        "    dataset_train.prepare()\n",
        "\n",
        "    # Validation dataset\n",
        "    dataset_val = CustomDataset()\n",
        "    dataset_val.load_custom(\"/content/dataset\", \"val\")\n",
        "    dataset_val.prepare()\n",
        "\n",
        "    # *** This training schedule is an example. Update to your needs ***\n",
        "    # Since we're using a very small dataset, and starting from\n",
        "    # COCO trained weights, we don't need to train too long. Also,\n",
        "    # no need to train all layers, just the heads should do it.\n",
        "    print(\"Training network heads\")\n",
        "    model.train(dataset_train, dataset_val,\n",
        "                learning_rate=config.LEARNING_RATE,\n",
        "                epochs=40,\n",
        "                layers='all')"
      ]
    },
    {
      "cell_type": "code",
      "execution_count": null,
      "metadata": {
        "colab": {
          "base_uri": "https://localhost:8080/"
        },
        "id": "xX6xEg_IkNLz",
        "outputId": "9e60e493-cd25-4f9f-c4ec-36777c8caf5d"
      },
      "outputs": [],
      "source": [
        "config = CustomConfig()\n",
        "model = modellib.MaskRCNN(mode=\"training\", config=config,\n",
        "                                  model_dir=DEFAULT_LOGS_DIR)"
      ]
    },
    {
      "cell_type": "code",
      "execution_count": null,
      "metadata": {
        "colab": {
          "base_uri": "https://localhost:8080/"
        },
        "id": "kNCcGgm9msev",
        "outputId": "156cf7d8-f35d-47dc-a2e7-625bfb20cd2c"
      },
      "outputs": [],
      "source": [
        "weights_path = COCO_WEIGHTS_PATH\n",
        "        # Download weights file\n",
        "if not os.path.exists(weights_path):\n",
        "  utils.download_trained_weights(weights_path)"
      ]
    },
    {
      "cell_type": "code",
      "execution_count": null,
      "metadata": {
        "id": "C-Rt591wqIq1"
      },
      "outputs": [],
      "source": [
        "model.load_weights(weights_path, by_name=True, exclude=[\n",
        "            \"mrcnn_class_logits\", \"mrcnn_bbox_fc\",\n",
        "            \"mrcnn_bbox\", \"mrcnn_mask\"])"
      ]
    },
    {
      "cell_type": "code",
      "execution_count": null,
      "metadata": {
        "colab": {
          "base_uri": "https://localhost:8080/"
        },
        "id": "7i7f9KCOueKi",
        "outputId": "f6f13d92-a251-473d-d22e-d8ad6199da15"
      },
      "outputs": [],
      "source": [
        "# !pip install keras==2.2.5\n",
        "# # if error occurs restart runtime\n",
        "# import keras.backend as K\n",
        "# K.clear_session()\n",
        "train(model)\n",
        "import shutil\n",
        "shutil.copytree('/content/wastedata-Mask_RCNN-multiple-classes/main/Mask_RCNN/logs', '/content/drive/MyDrive/MaskRCNN/HorseManLogs')"
      ]
    },
    {
      "cell_type": "code",
      "execution_count": null,
      "metadata": {
        "colab": {
          "base_uri": "https://localhost:8080/",
          "height": 35
        },
        "id": "A3A1__vPw0eB",
        "outputId": "d70639bc-ebfc-46f4-f502-66ec57da2b2b"
      },
      "outputs": [],
      "source": [
        "import shutil\n",
        "shutil.copytree('/content/wastedata-Mask_RCNN-multiple-classes/main/Mask_RCNN/logs', '/content/drive/MyDrive/MaskRCNN/HorseManLogs')"
      ]
    },
    {
      "cell_type": "markdown",
      "metadata": {
        "id": "ER2OFIbzFrhw"
      },
      "source": [
        "# **TESTING**\n"
      ]
    },
    {
      "cell_type": "code",
      "execution_count": null,
      "metadata": {
        "id": "Sqi1GzS0_muj"
      },
      "outputs": [],
      "source": [
        "import os\n",
        "import sys\n",
        "import random\n",
        "import math\n",
        "import re\n",
        "import time\n",
        "import numpy as np\n",
        "import tensorflow as tf\n",
        "import matplotlib\n",
        "import matplotlib.pyplot as plt\n",
        "import matplotlib.patches as patches\n",
        "import matplotlib.image as mpimg\n",
        "\n",
        "\n",
        "# Import Mask RCNN\n",
        "sys.path.append(ROOT_DIR)  # To find local version of the library\n",
        "from mrcnn import utils\n",
        "from mrcnn import visualize\n",
        "from mrcnn.visualize import display_images\n",
        "import mrcnn.model as modellib\n",
        "from mrcnn.model import log\n",
        "\n",
        "%matplotlib inline \n",
        "\n",
        "# Directory to save logs and trained model\n",
        "MODEL_DIR = os.path.join(ROOT_DIR, \"logs\")\n",
        "\n",
        "WEIGHTS_PATH = \"/content/drive/MyDrive/MaskRCNN/Train_40_2-11/mask_rcnn_object_0026.h5\"  # TODO: update this path"
      ]
    },
    {
      "cell_type": "code",
      "execution_count": null,
      "metadata": {
        "colab": {
          "base_uri": "https://localhost:8080/"
        },
        "id": "Z9ATL4H1GEXZ",
        "outputId": "0c236a93-ebec-4e1b-b49f-c82ac6dfb87d"
      },
      "outputs": [],
      "source": [
        "config = CustomConfig()\n",
        "CUSTOM_DIR = os.path.join(ROOT_DIR, \"/content/dataset/\")\n",
        "class InferenceConfig(config.__class__):\n",
        "    # Run detection on one image at a time\n",
        "    GPU_COUNT = 1\n",
        "    IMAGES_PER_GPU = 1\n",
        "    DETECTION_MIN_CONFIDENCE = 0.8\n",
        "\n",
        "config = InferenceConfig()\n",
        "config.display()"
      ]
    },
    {
      "cell_type": "code",
      "execution_count": null,
      "metadata": {
        "id": "a-F9MUrCGO7_"
      },
      "outputs": [],
      "source": [
        "\n",
        "DEVICE = \"/gpu:0\"  # /cpu:0 or /gpu:0\n",
        "\n",
        "TEST_MODE = \"inference\""
      ]
    },
    {
      "cell_type": "code",
      "execution_count": null,
      "metadata": {
        "id": "tR1Vbd1aGje7"
      },
      "outputs": [],
      "source": [
        "def get_ax(rows=1, cols=1, size=16):\n",
        "    _, ax = plt.subplots(rows, cols, figsize=(size*cols, size*rows))\n",
        "    return ax"
      ]
    },
    {
      "cell_type": "code",
      "execution_count": null,
      "metadata": {
        "colab": {
          "base_uri": "https://localhost:8080/"
        },
        "id": "jSdKUXTJGnlo",
        "outputId": "df8f66a4-ca94-4d59-963a-d0c806866890"
      },
      "outputs": [],
      "source": [
        "CUSTOM_DIR = \"/content/dataset\"\n",
        "dataset = CustomDataset()\n",
        "dataset.load_custom(CUSTOM_DIR, \"val\")\n",
        "\n",
        "dataset.prepare()\n",
        "\n",
        "print(\"Images: {}\\nClasses: {}\".format(len(dataset.image_ids), dataset.class_names))"
      ]
    },
    {
      "cell_type": "code",
      "execution_count": null,
      "metadata": {
        "colab": {
          "base_uri": "https://localhost:8080/"
        },
        "id": "jMnXZbrwGvia",
        "outputId": "7439236f-49f3-44f0-a4ab-e86a180785dc"
      },
      "outputs": [],
      "source": [
        "with tf.device(DEVICE):\n",
        "    model = modellib.MaskRCNN(mode=\"inference\", model_dir=MODEL_DIR,\n",
        "                              config=config)"
      ]
    },
    {
      "cell_type": "code",
      "execution_count": null,
      "metadata": {
        "colab": {
          "base_uri": "https://localhost:8080/"
        },
        "id": "_2EBlHj8G3-E",
        "outputId": "4a310f21-82e1-4208-fa42-1b2f70b08e22"
      },
      "outputs": [],
      "source": [
        "weights_path = WEIGHTS_PATH\n",
        "\n",
        "print(\"Loading weights \", weights_path)\n",
        "model.load_weights(weights_path, by_name=True)"
      ]
    },
    {
      "cell_type": "code",
      "execution_count": null,
      "metadata": {
        "id": "6w2AgocWHNQ5"
      },
      "outputs": [],
      "source": [
        "import os\n",
        "rootdir = '/content/dataset/test/batin'\n",
        "dictionary = dict()\n",
        "name = \"\"\n",
        "list1=[]\n",
        "# for subdir, dirs, files in os.walk(rootdir):\n",
        "for i in range(2,23):\n",
        "  director = rootdir + str(i)\n",
        "  for filename in os.listdir(director):\n",
        "    f = os.path.join(director, filename)\n",
        "    if (f.endswith(('.png', '.jpg', '.jpeg', '.tiff', '.bmp', '.gif'))):\n",
        "      image1 = mpimg.imread(f)\n",
        "      print(filename)\n",
        "      results1 = model.detect([image1], verbose=1)\n",
        "      ax = get_ax(1)\n",
        "      r1 = results1[0]\n",
        "      newname = filename[0:10]\n",
        "      list2=[]\n",
        "      num_ids = r1['class_ids']\n",
        "      mask = r1['masks']\n",
        "\n",
        "      num_ids = numpy.array(num_ids)\n",
        "      outer_wall_index = np.where(num_ids==3)\n",
        "      inner_wall_index = np.where(num_ids==2)\n",
        "      tumor_index = np.where(num_ids==1)\n",
        "      if len(outer_wall_index[0]) == 0 or len(inner_wall_index[0]) == 0 or len(tumor_index[0]) == 0:\n",
        "        continue\n",
        "\n",
        "      inner_count = 0\n",
        "      outer_count = 0\n",
        "      outside_count = 0\n",
        "      tumor = 0\n",
        "      for k in tumor_index[0]:\n",
        "        print(\"k\",k)\n",
        "        for i in range(512):\n",
        "          for j in range(512):\n",
        "            if mask[i][j][k] == True:\n",
        "              tumor += 1\n",
        "            if (mask[i][j][k] == mask[i][j][inner_wall_index[0][0]]) and (mask[i][j][k] == True):\n",
        "              inner_count += 1\n",
        "            if (mask[i][j][k] == mask[i][j][outer_wall_index[0][0]]) and (mask[i][j][k] == True):\n",
        "              outer_count += 1\n",
        "            elif (mask[i][j][k] == True):\n",
        "              outside_count += 1\n",
        "      list2.append(tumor)\n",
        "      list2.append(inner_count)\n",
        "      list2.append(outer_count-inner_count)\n",
        "      list2.append(outside_count)\n",
        "      if newname in dictionary:\n",
        "        dictionary[newname].append(list2)\n",
        "      else:\n",
        "        dictionary[newname] = [list2]\n",
        "\n",
        "      num_ids = np.array(num_ids, dtype=np.int32)\n",
        "      print(dictionary)\n",
        "      \n",
        "      visualize.display_instances(image1, r1['rois'], r1['masks'], r1['class_ids'],\n",
        "                                  dataset.class_names, r1['scores'], ax=ax,\n",
        "                                  title=\"Predictions\")\n",
        "\n",
        "import json\n",
        "  \n",
        "with open('/content/convert.txt', 'w') as convert_file:\n",
        "    convert_file.write(json.dumps(dictionary))\n",
        "\n",
        "      "
      ]
    }
  ],
  "metadata": {
    "accelerator": "GPU",
    "colab": {
      "collapsed_sections": [],
      "name": "MaskRCNN yeni data için adlı not defterinin kopyası",
      "provenance": []
    },
    "kernelspec": {
      "display_name": "Python 3",
      "name": "python3"
    }
  },
  "nbformat": 4,
  "nbformat_minor": 0
}
